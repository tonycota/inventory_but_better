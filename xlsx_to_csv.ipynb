{
 "cells": [
  {
   "cell_type": "code",
   "execution_count": 1,
   "metadata": {},
   "outputs": [
    {
     "name": "stdout",
     "output_type": "stream",
     "text": [
      "test to assure the kernel has connected\n",
      "bababooey\n"
     ]
    }
   ],
   "source": [
    "print(\"test to assure the kernel has connected\")\n",
    "print(f'bababooey')"
   ]
  },
  {
   "cell_type": "code",
   "execution_count": 2,
   "metadata": {},
   "outputs": [
    {
     "name": "stdout",
     "output_type": "stream",
     "text": [
      "pandas imported successfully\n"
     ]
    }
   ],
   "source": [
    "#bring in those dependencies boi\n",
    "import pandas as pd\n",
    "print('pandas imported successfully')\n",
    "\n"
   ]
  },
  {
   "cell_type": "code",
   "execution_count": 3,
   "metadata": {},
   "outputs": [
    {
     "name": "stdout",
     "output_type": "stream",
     "text": [
      "Your file converted successfully and saved as woop_woop.csv\n"
     ]
    }
   ],
   "source": [
    "# pip install openpyxl and set up dependencies\n",
    "\n",
    "# !pip install openpyxl\n",
    "import pandas as pd\n",
    "\n",
    "# set up the file paths foo\n",
    "xlsx_file = \"inventory_practice.xlsx\"  \n",
    "csv_file = \"woop_woop.csv\"    \n",
    "\n",
    "#read the excel file\n",
    "df = pd.read_excel(xlsx_file, engine='openpyxl')\n",
    "\n",
    "#  now convert that shit as a csv\n",
    "df.to_csv(csv_file, index=False)\n",
    "\n",
    "print(f\"Your file converted successfully and saved as {csv_file}\")\n"
   ]
  },
  {
   "cell_type": "code",
   "execution_count": null,
   "metadata": {},
   "outputs": [],
   "source": []
  }
 ],
 "metadata": {
  "kernelspec": {
   "display_name": "dev",
   "language": "python",
   "name": "python3"
  },
  "language_info": {
   "codemirror_mode": {
    "name": "ipython",
    "version": 3
   },
   "file_extension": ".py",
   "mimetype": "text/x-python",
   "name": "python",
   "nbconvert_exporter": "python",
   "pygments_lexer": "ipython3",
   "version": "3.10.13"
  }
 },
 "nbformat": 4,
 "nbformat_minor": 2
}
