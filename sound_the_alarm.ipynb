{
 "cells": [
  {
   "cell_type": "code",
   "execution_count": 1,
   "metadata": {},
   "outputs": [
    {
     "name": "stdout",
     "output_type": "stream",
     "text": [
      "test to assure the kernel has connected\n"
     ]
    }
   ],
   "source": [
    "print(\"test to assure the kernel has connected\")"
   ]
  },
  {
   "cell_type": "code",
   "execution_count": 6,
   "metadata": {},
   "outputs": [
    {
     "name": "stdout",
     "output_type": "stream",
     "text": [
      "pandas imported successfully\n"
     ]
    }
   ],
   "source": [
    "#bring in those dependencies boi\n",
    "import pandas as pd\n",
    "print('pandas imported successfully')\n",
    "\n"
   ]
  },
  {
   "cell_type": "code",
   "execution_count": 8,
   "metadata": {},
   "outputs": [
    {
     "name": "stdout",
     "output_type": "stream",
     "text": [
      "File converted successfully and saved as woop_woop.csv\n"
     ]
    }
   ],
   "source": [
    "\n",
    "import pandas as pd\n",
    "\n",
    "# set up the file paths foo\n",
    "xlsx_file = \"inventory_practice.xlsx\"  \n",
    "csv_file = \"woop_woop.csv\"    \n",
    "\n",
    "#read the excel file ya hoe\n",
    "df = pd.read_excel(xlsx_file, engine='openpyxl')\n",
    "\n",
    "#  now save that shit as a csv\n",
    "df.to_csv(csv_file, index=False)\n",
    "\n",
    "print(f\"File converted successfully and saved as {csv_file}\")\n"
   ]
  },
  {
   "cell_type": "code",
   "execution_count": null,
   "metadata": {},
   "outputs": [],
   "source": []
  }
 ],
 "metadata": {
  "kernelspec": {
   "display_name": "dev",
   "language": "python",
   "name": "python3"
  },
  "language_info": {
   "codemirror_mode": {
    "name": "ipython",
    "version": 3
   },
   "file_extension": ".py",
   "mimetype": "text/x-python",
   "name": "python",
   "nbconvert_exporter": "python",
   "pygments_lexer": "ipython3",
   "version": "3.10.13"
  }
 },
 "nbformat": 4,
 "nbformat_minor": 2
}
